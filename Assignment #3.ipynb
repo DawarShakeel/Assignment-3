{
 "cells": [
  {
   "cell_type": "code",
   "execution_count": 16,
   "id": "53e85aa1",
   "metadata": {},
   "outputs": [
    {
     "name": "stdout",
     "output_type": "stream",
     "text": [
      " Enter a value of radius of circle 4\n",
      "50.2656\n"
     ]
    }
   ],
   "source": [
    "\"\"\"Write a Python program which accepts the radius of a circle from the user and compute\n",
    "the area.\"\"\"\n",
    "R = int(input(\" Enter a value of radius of circle \"));\n",
    "P = 3.1416\n",
    "A = P * (R**2)\n",
    "print(A)\n",
    "\n"
   ]
  },
  {
   "cell_type": "code",
   "execution_count": null,
   "id": "61ba1a06",
   "metadata": {},
   "outputs": [],
   "source": [
    "\"\"\"Write a Python program which accepts the user's first and last name and print them in\n",
    "reverse order with a space between them.\"\"\"\n",
    "a = input(\" Enter your First Name \");\n",
    "b = input(\" Enter your Last Name \");\n",
    "print(b , a)\n"
   ]
  },
  {
   "cell_type": "code",
   "execution_count": null,
   "id": "6137f55f",
   "metadata": {},
   "outputs": [],
   "source": [
    "\"\"\"Write a python program which takes two inputs from user and print them addition\"\"\"\n",
    "a = int(input(\"Enter first value\" );\n",
    "b = int(input(\"Enter second value\");\n",
    "print(a + b)        "
   ]
  },
  {
   "cell_type": "code",
   "execution_count": null,
   "id": "d0e29730",
   "metadata": {},
   "outputs": [],
   "source": [
    "\"\"\"Write a program which takes 5 inputs from user for different subject’s marks, total it\n",
    "and generate mark sheet using grades ?\"\"\"\n",
    "E = int(input(\" Enter the marks of English \"));\n",
    "I = int(input(\" Enter the marks of Islamiat \")); \n",
    "M = int(input(\" Enter the marks of Math \"));\n",
    "P = int(input( \" Enter the marks of Physics \"));\n",
    "C = int(input(\" Enter the marks of Chemistry \"));\n",
    "MARKSOBTAINED = E + I + M + P + C\n",
    "print(\"Marks Obtained =\", MARKSOBTAINED)\n",
    "TOTALMARKS = 500 ;\n",
    "percent = (MARKSOBTAINED/TOTALMARKS)*100;\n",
    "print(percent)\n",
    "if percent < 100 and percent >= 80:\n",
    "    print(\"Grade A+\")\n",
    "elif percent < 80 and percent >= 70:\n",
    "    print(\"Grade A\")\n",
    "elif percent < 70 and percent >= 60:\n",
    "    print(\"Grade B\")\n",
    "elif percent < 60 and percent >= 50:\n",
    "    print(\"Grade C\")\n",
    "elif percent < 50 and percent >= 40:\n",
    "    print(\"Grade D\")\n",
    "elif percent < 40 and percent >= 33:\n",
    "    print(\"Grade E\")\n",
    "elif percent < 33:\n",
    "    print(\"Fail\")\n",
    "else:\n",
    "    print(\"Invalid Input\")\n",
    "\n"
   ]
  },
  {
   "cell_type": "code",
   "execution_count": null,
   "id": "7e01484e",
   "metadata": {},
   "outputs": [],
   "source": [
    "\"\"\"Write a program which take input from user and identify that the given number is even\n",
    "or odd?\"\"\"\n",
    "a = int(input(\" Enter a Number \"));\n",
    "b = a % 2\n",
    "if b == 0:\n",
    "    print(\"Even Number\")\n",
    "else:\n",
    "    print(\"Odd Number\")"
   ]
  },
  {
   "cell_type": "code",
   "execution_count": null,
   "id": "23b2f9f9",
   "metadata": {},
   "outputs": [],
   "source": [
    "\"\"\"Write a program which print the length of the list?\"\"\"\n",
    "list = [\"Dawar\", \"Adeel\", \"Mujtaba\", 1, 8, 5, 9]\n",
    "print(\"Nubmer of items in the list=\", len(list))"
   ]
  },
  {
   "cell_type": "code",
   "execution_count": null,
   "id": "c856b8ab",
   "metadata": {},
   "outputs": [],
   "source": [
    "\"\"\"Write a Python program to get the Python version you are using.\"\"\"\n",
    "import sys\n",
    "print(\"Python version\")\n",
    "print (sys.version)\n",
    "print(\"Version info.\")\n",
    "print (sys.version_info)"
   ]
  },
  {
   "cell_type": "code",
   "execution_count": null,
   "id": "89c5dea8",
   "metadata": {},
   "outputs": [],
   "source": [
    "\"\"\"Write a Python program to display the current date and time.\"\"\"\n",
    "import datetime\n",
    "now = datetime.datetime.now()\n",
    "print (\"Current date and time : \")\n",
    "print (now.strftime(\"%Y-%m-%d %H:%M:%S\"))\n",
    "\n"
   ]
  },
  {
   "cell_type": "code",
   "execution_count": 1,
   "id": "4caf6268",
   "metadata": {},
   "outputs": [
    {
     "name": "stdout",
     "output_type": "stream",
     "text": [
      "Twinkle, twinkle, little star,\n",
      "         How I wonder what you are!\n",
      "                 Up above the world so high,\n",
      "                 Like a diamond in the sky.\n",
      "Twinkle, twinkle, little star,\n",
      "         How I wonder what you are\n"
     ]
    }
   ],
   "source": [
    "\"\"\"Write a Python program to print the following string in a specific format (see the\n",
    "output).\"\"\"\n",
    "print(\"Twinkle, twinkle, little star,\")\n",
    "print(\"         How I wonder what you are!\")\n",
    "print(\"                 Up above the world so high,\")\n",
    "print(\"                 Like a diamond in the sky.\")\n",
    "print(\"Twinkle, twinkle, little star,\")\n",
    "print(\"         How I wonder what you are\")"
   ]
  },
  {
   "cell_type": "code",
   "execution_count": 1,
   "id": "d084f727",
   "metadata": {},
   "outputs": [],
   "source": [
    "\"\"\"11.Write a Python program to get the largest number from a numeric list.\"\"\"\n",
    "l = [1000,298,3579,100,200,-45,900,5000,89475 ]\n",
    "n = 1\n",
    "  \n",
    "l.sort()\n",
    "print(l[-n:])"
   ]
  },
  {
   "cell_type": "code",
   "execution_count": null,
   "id": "960c99b6",
   "metadata": {},
   "outputs": [],
   "source": [
    "\"\"\"Write a program that prints out all the elements of the list that are less than 5.\"\"\"\n",
    "a = [1, 3, 1, 2, 3, 5, 8, 13, 21, 34, 55, 89]\n",
    "k = 5\n",
    "print (\"The list : \" + str(a))\n",
    "count = len([i for i in a if i < k])\n",
    "print (\"The numbers lesser than 5 : \" + str(count))"
   ]
  },
  {
   "cell_type": "code",
   "execution_count": null,
   "id": "003362de",
   "metadata": {},
   "outputs": [],
   "source": [
    "\"\"\"Write a Python program to sum all the numeric items in a list?\"\"\"\n",
    "list1 = [1, 15, 17, 18, 23, 56, 89]\n",
    "total = sum(list1)\n",
    "print(\"Sum of all elements in given list: \", total)"
   ]
  }
 ],
 "metadata": {
  "kernelspec": {
   "display_name": "Python 3",
   "language": "python",
   "name": "python3"
  },
  "language_info": {
   "codemirror_mode": {
    "name": "ipython",
    "version": 3
   },
   "file_extension": ".py",
   "mimetype": "text/x-python",
   "name": "python",
   "nbconvert_exporter": "python",
   "pygments_lexer": "ipython3",
   "version": "3.8.8"
  }
 },
 "nbformat": 4,
 "nbformat_minor": 5
}
